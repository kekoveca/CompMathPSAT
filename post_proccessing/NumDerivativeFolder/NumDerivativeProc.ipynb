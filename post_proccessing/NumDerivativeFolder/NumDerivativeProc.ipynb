{
 "cells": [
  {
   "cell_type": "code",
   "execution_count": 2,
   "metadata": {},
   "outputs": [],
   "source": [
    "import numpy as np\n",
    "import matplotlib.pyplot as plt\n",
    "import seaborn as sns\n",
    "import pandas as pd"
   ]
  },
  {
   "cell_type": "markdown",
   "metadata": {},
   "source": [
    "## Численное дифференцирование\n",
    "\n",
    "Задача: написать функцию, которая будет вычислять коэффициенты для численного поиска первой производной с наивысшим возможным порядком аппроксимации. Дан набор узлов, в которых известно значение функции. Считается, что производная вычисляется в точке $x_0$. Узлы подаются относительно этой точки в долях шага h.\n",
    "\n",
    "Решение: метод неопределенных коэффециентов. Пусть $I$ - множество долей шага h (например, для набора $(x_0 - h, x_0, x_0 + h)$ получаем $I = \\{-1, 1\\}$). Пусть $A_i$ - коэффициент при $f(x + ih)$. Тогда СЛАУ для нахождения этих коэффициентов:\n",
    "\n",
    "\\begin{equation}\n",
    "    \\sum_{i \\in I} A_i + A_0 = 0\n",
    "\\end{equation}\n",
    "\n",
    "\\begin{equation}\n",
    "    \\sum_{i \\in I} iA_i = \\frac{1}{h}\n",
    "\\end{equation}\n",
    "\n",
    "\\begin{equation}\n",
    "    \\sum_{i \\in I} i^2A_i = 0\n",
    "\\end{equation}\n",
    "\n",
    "\\begin{equation}\n",
    "    \\sum_{i \\in I} i^3A_i = 0 \n",
    "\\end{equation}\n",
    "\n",
    "\\begin{equation}\n",
    "    ...\n",
    "\\end{equation}\n",
    "\n",
    "\\begin{equation}\n",
    "    \\sum_{i \\in I} i^NA_i = 0 \n",
    "\\end{equation}\n",
    "\n",
    "Где $N$ - размер $I$. Если принять во втором уравнении $h = 1$, то решения будут как раз в виде коэффециентов, домноженных на шаг $h$."
   ]
  }
 ],
 "metadata": {
  "kernelspec": {
   "display_name": "Python 3",
   "language": "python",
   "name": "python3"
  },
  "language_info": {
   "codemirror_mode": {
    "name": "ipython",
    "version": 3
   },
   "file_extension": ".py",
   "mimetype": "text/x-python",
   "name": "python",
   "nbconvert_exporter": "python",
   "pygments_lexer": "ipython3",
   "version": "3.11.5"
  }
 },
 "nbformat": 4,
 "nbformat_minor": 2
}
